{
 "cells": [
  {
   "cell_type": "markdown",
   "metadata": {},
   "source": [
    "# Experiment 3\n",
    "- Load the saved model and replace the output layer of the model, as well as the first two convolutional layers (keep the weights of all other layers).\n",
    "- Train and evaluate the model on the cats and dogs dataset.\n",
    "\n",
    "## Steps\n",
    "Load the saved model from a file.\n",
    "\n",
    "Freeze all layers except the first two convolutional layers and the output layer.\n",
    "\n",
    "Replace the first two convolutional layers and the output layer.\n",
    "\n",
    "Compile the model with a suitable loss function and optimizer.\n",
    "\n",
    "Train and evaluate the model on the Cats vs. Dogs dataset.\n",
    "\n",
    "### Load the saved model"
   ]
  },
  {
   "cell_type": "code",
   "execution_count": 2,
   "metadata": {},
   "outputs": [],
   "source": [
    "import tensorflow as tf\n",
    "from tensorflow import data as tf_data\n",
    "from tensorflow import keras\n",
    "from keras import layers\n",
    "\n",
    "# Load the pre-trained model\n",
    "saved_model_path = \"models/experiment1_model.keras\"\n",
    "model = keras.models.load_model(saved_model_path)"
   ]
  },
  {
   "cell_type": "markdown",
   "metadata": {},
   "source": [
    "### Modify the model"
   ]
  },
  {
   "cell_type": "code",
   "execution_count": 3,
   "metadata": {},
   "outputs": [],
   "source": [
    "def make_model(input_shape, num_classes):\n",
    "    inputs = keras.Input(shape=input_shape)\n",
    "\n",
    "    # Entry block\n",
    "    x = layers.Rescaling(1.0 / 255)(inputs)\n",
    "    x = layers.Conv2D(128, 3, strides=2, padding=\"same\")(x)\n",
    "    x = layers.BatchNormalization()(x)\n",
    "    x = layers.Activation(\"relu\")(x)\n",
    "\n",
    "    previous_block_activation = x  # Set aside residual\n",
    "\n",
    "    for size in [256, 512, 728]:\n",
    "        x = layers.Activation(\"relu\")(x)\n",
    "        x = layers.SeparableConv2D(size, 3, padding=\"same\")(x)\n",
    "        x = layers.BatchNormalization()(x)\n",
    "\n",
    "        x = layers.Activation(\"relu\")(x)\n",
    "        x = layers.SeparableConv2D(size, 3, padding=\"same\")(x)\n",
    "        x = layers.BatchNormalization()(x)\n",
    "\n",
    "        x = layers.MaxPooling2D(3, strides=2, padding=\"same\")(x)\n",
    "\n",
    "        # Project residual\n",
    "        residual = layers.Conv2D(size, 1, strides=2, padding=\"same\")(\n",
    "            previous_block_activation\n",
    "        )\n",
    "        x = layers.add([x, residual])  # Add back residual\n",
    "        previous_block_activation = x  # Set aside next residual\n",
    "\n",
    "    x = layers.SeparableConv2D(1024, 3, padding=\"same\")(x)\n",
    "    x = layers.BatchNormalization()(x)\n",
    "    x = layers.Activation(\"relu\")(x)\n",
    "\n",
    "    x = layers.GlobalAveragePooling2D()(x)\n",
    "    if num_classes == 2:\n",
    "        units = 1\n",
    "    else:\n",
    "        units = num_classes\n",
    "\n",
    "    x = layers.Dropout(0.25)(x)\n",
    "    # Change output layer for multi-class classification (120 dog breeds)\n",
    "    outputs = layers.Dense(units, activation=\"softmax\")(x)\n",
    "    return keras.Model(inputs, outputs)"
   ]
  },
  {
   "cell_type": "code",
   "execution_count": null,
   "metadata": {},
   "outputs": [],
   "source": [
    "# Create a fresh model with the same architecture\n",
    "fresh_model = make_model(input_shape=(180, 180) + (3,), num_classes=1)\n",
    "base_model = keras.Model(inputs=model.input, outputs=model.layers[-2].output)\n",
    "base_model.trainable = False \n",
    "\n",
    "# Reset weights for layers 6 to 22\n",
    "for i in range(6, 22):\n",
    "    base_model.layers[i].set_weights(fresh_model.layers[i].get_weights())\n",
    "    base_model.layers[i].trainable = True  # Make sure the layers are trainable"
   ]
  },
  {
   "cell_type": "code",
   "execution_count": 5,
   "metadata": {},
   "outputs": [],
   "source": [
    "# Add new output layer (Binary Classification)\n",
    "new_output = layers.Dense(1, activation=\"sigmoid\")(base_model.output)\n",
    "\n",
    "# Create a new model\n",
    "new_model = keras.Model(inputs=base_model.input, outputs=new_output)"
   ]
  },
  {
   "cell_type": "markdown",
   "metadata": {},
   "source": [
    "### Compile the model"
   ]
  },
  {
   "cell_type": "code",
   "execution_count": 6,
   "metadata": {},
   "outputs": [],
   "source": [
    "new_model.compile(\n",
    "    optimizer=keras.optimizers.Adam(learning_rate=0.0001), # Modification for experiment 1\n",
    "    loss=keras.losses.BinaryCrossentropy(from_logits=True),\n",
    "    metrics=[keras.metrics.BinaryAccuracy(name=\"acc\")],\n",
    ")"
   ]
  },
  {
   "cell_type": "markdown",
   "metadata": {},
   "source": [
    "### Create the dataset"
   ]
  },
  {
   "cell_type": "code",
   "execution_count": null,
   "metadata": {},
   "outputs": [
    {
     "name": "stdout",
     "output_type": "stream",
     "text": [
      "Found 23422 files belonging to 2 classes.\n",
      "Using 18738 files for training.\n",
      "Using 4684 files for validation.\n"
     ]
    },
    {
     "ename": "",
     "evalue": "",
     "output_type": "error",
     "traceback": [
      "\u001b[1;31mThe Kernel crashed while executing code in the current cell or a previous cell. \n",
      "\u001b[1;31mPlease review the code in the cell(s) to identify a possible cause of the failure. \n",
      "\u001b[1;31mClick <a href='https://aka.ms/vscodeJupyterKernelCrash'>here</a> for more info. \n",
      "\u001b[1;31mView Jupyter <a href='command:jupyter.viewOutput'>log</a> for further details."
     ]
    }
   ],
   "source": [
    "# Create the dataset\n",
    "image_size = (180, 180)\n",
    "batch_size = 128\n",
    "\n",
    "train_ds, val_ds = keras.utils.image_dataset_from_directory(\n",
    "    \"PetImages\",\n",
    "    validation_split=0.2,\n",
    "    subset=\"both\",\n",
    "    seed=1337,\n",
    "    image_size=image_size,\n",
    "    batch_size=batch_size,\n",
    ")\n",
    "\n",
    "data_augmentation_layers = [\n",
    "    layers.RandomFlip(\"horizontal\"),\n",
    "    layers.RandomRotation(0.1),\n",
    "]\n",
    "\n",
    "\n",
    "def data_augmentation(images):\n",
    "    for layer in data_augmentation_layers:\n",
    "        images = layer(images)\n",
    "    return images\n",
    "\n",
    "augmented_train_ds = train_ds.map(\n",
    "    lambda x, y: (data_augmentation(x), y))\n",
    "\n",
    "# Apply `data_augmentation` to the training images.\n",
    "train_ds = train_ds.map(\n",
    "    lambda img, label: (data_augmentation(img), label),\n",
    "    num_parallel_calls=tf_data.AUTOTUNE,\n",
    ")\n",
    "# Prefetching samples in GPU memory helps maximize GPU utilization.\n",
    "train_ds = train_ds.prefetch(tf_data.AUTOTUNE)\n",
    "val_ds = val_ds.prefetch(tf_data.AUTOTUNE)"
   ]
  },
  {
   "cell_type": "markdown",
   "metadata": {},
   "source": [
    "### Train and evaluate the model"
   ]
  },
  {
   "cell_type": "code",
   "execution_count": null,
   "metadata": {},
   "outputs": [
    {
     "name": "stdout",
     "output_type": "stream",
     "text": [
      "Epoch 1/50\n"
     ]
    },
    {
     "name": "stderr",
     "output_type": "stream",
     "text": [
      "c:\\Users\\Utilisateur\\Documents\\GitHub\\DL_Assignements\\.venv\\Lib\\site-packages\\keras\\src\\backend\\tensorflow\\nn.py:780: UserWarning: \"`binary_crossentropy` received `from_logits=True`, but the `output` argument was produced by a Sigmoid activation and thus does not represent logits. Was this intended?\n",
      "  output, from_logits = _get_logits(\n"
     ]
    },
    {
     "name": "stdout",
     "output_type": "stream",
     "text": [
      "\u001b[1m147/147\u001b[0m \u001b[32m━━━━━━━━━━━━━━━━━━━━\u001b[0m\u001b[37m\u001b[0m \u001b[1m857s\u001b[0m 6s/step - acc: 0.6036 - loss: 0.6986 - val_acc: 0.5056 - val_loss: 0.7306\n",
      "Epoch 2/50\n",
      "\u001b[1m147/147\u001b[0m \u001b[32m━━━━━━━━━━━━━━━━━━━━\u001b[0m\u001b[37m\u001b[0m \u001b[1m824s\u001b[0m 6s/step - acc: 0.6785 - loss: 0.5930 - val_acc: 0.5175 - val_loss: 0.7000\n",
      "Epoch 3/50\n",
      "\u001b[1m147/147\u001b[0m \u001b[32m━━━━━━━━━━━━━━━━━━━━\u001b[0m\u001b[37m\u001b[0m \u001b[1m824s\u001b[0m 6s/step - acc: 0.7159 - loss: 0.5538 - val_acc: 0.5009 - val_loss: 0.6997\n",
      "Epoch 4/50\n",
      "\u001b[1m147/147\u001b[0m \u001b[32m━━━━━━━━━━━━━━━━━━━━\u001b[0m\u001b[37m\u001b[0m \u001b[1m824s\u001b[0m 6s/step - acc: 0.7322 - loss: 0.5288 - val_acc: 0.5026 - val_loss: 0.7279\n",
      "Epoch 5/50\n",
      "\u001b[1m147/147\u001b[0m \u001b[32m━━━━━━━━━━━━━━━━━━━━\u001b[0m\u001b[37m\u001b[0m \u001b[1m824s\u001b[0m 6s/step - acc: 0.7489 - loss: 0.5038 - val_acc: 0.6806 - val_loss: 0.5672\n",
      "Epoch 6/50\n",
      "\u001b[1m147/147\u001b[0m \u001b[32m━━━━━━━━━━━━━━━━━━━━\u001b[0m\u001b[37m\u001b[0m \u001b[1m824s\u001b[0m 6s/step - acc: 0.7691 - loss: 0.4765 - val_acc: 0.7686 - val_loss: 0.4802\n",
      "Epoch 7/50\n",
      "\u001b[1m147/147\u001b[0m \u001b[32m━━━━━━━━━━━━━━━━━━━━\u001b[0m\u001b[37m\u001b[0m \u001b[1m824s\u001b[0m 6s/step - acc: 0.7677 - loss: 0.4736 - val_acc: 0.8096 - val_loss: 0.4352\n",
      "Epoch 8/50\n",
      "\u001b[1m147/147\u001b[0m \u001b[32m━━━━━━━━━━━━━━━━━━━━\u001b[0m\u001b[37m\u001b[0m \u001b[1m824s\u001b[0m 6s/step - acc: 0.7926 - loss: 0.4444 - val_acc: 0.8064 - val_loss: 0.4211\n",
      "Epoch 9/50\n",
      "\u001b[1m147/147\u001b[0m \u001b[32m━━━━━━━━━━━━━━━━━━━━\u001b[0m\u001b[37m\u001b[0m \u001b[1m825s\u001b[0m 6s/step - acc: 0.8082 - loss: 0.4166 - val_acc: 0.7889 - val_loss: 0.4539\n",
      "Epoch 10/50\n",
      "\u001b[1m147/147\u001b[0m \u001b[32m━━━━━━━━━━━━━━━━━━━━\u001b[0m\u001b[37m\u001b[0m \u001b[1m825s\u001b[0m 6s/step - acc: 0.8218 - loss: 0.4016 - val_acc: 0.8038 - val_loss: 0.4178\n",
      "Epoch 11/50\n",
      "\u001b[1m147/147\u001b[0m \u001b[32m━━━━━━━━━━━━━━━━━━━━\u001b[0m\u001b[37m\u001b[0m \u001b[1m825s\u001b[0m 6s/step - acc: 0.8311 - loss: 0.3779 - val_acc: 0.7942 - val_loss: 0.4336\n",
      "Epoch 12/50\n",
      "\u001b[1m147/147\u001b[0m \u001b[32m━━━━━━━━━━━━━━━━━━━━\u001b[0m\u001b[37m\u001b[0m \u001b[1m825s\u001b[0m 6s/step - acc: 0.8389 - loss: 0.3732 - val_acc: 0.7963 - val_loss: 0.4805\n",
      "Epoch 13/50\n",
      "\u001b[1m147/147\u001b[0m \u001b[32m━━━━━━━━━━━━━━━━━━━━\u001b[0m\u001b[37m\u001b[0m \u001b[1m825s\u001b[0m 6s/step - acc: 0.8365 - loss: 0.3631 - val_acc: 0.7982 - val_loss: 0.4404\n",
      "Epoch 14/50\n",
      "\u001b[1m147/147\u001b[0m \u001b[32m━━━━━━━━━━━━━━━━━━━━\u001b[0m\u001b[37m\u001b[0m \u001b[1m825s\u001b[0m 6s/step - acc: 0.8531 - loss: 0.3385 - val_acc: 0.8604 - val_loss: 0.3340\n",
      "Epoch 15/50\n",
      "\u001b[1m147/147\u001b[0m \u001b[32m━━━━━━━━━━━━━━━━━━━━\u001b[0m\u001b[37m\u001b[0m \u001b[1m825s\u001b[0m 6s/step - acc: 0.8613 - loss: 0.3216 - val_acc: 0.8553 - val_loss: 0.3352\n",
      "Epoch 16/50\n",
      "\u001b[1m147/147\u001b[0m \u001b[32m━━━━━━━━━━━━━━━━━━━━\u001b[0m\u001b[37m\u001b[0m \u001b[1m825s\u001b[0m 6s/step - acc: 0.8633 - loss: 0.3179 - val_acc: 0.8674 - val_loss: 0.3083\n",
      "Epoch 17/50\n",
      "\u001b[1m147/147\u001b[0m \u001b[32m━━━━━━━━━━━━━━━━━━━━\u001b[0m\u001b[37m\u001b[0m \u001b[1m826s\u001b[0m 6s/step - acc: 0.8707 - loss: 0.2993 - val_acc: 0.8792 - val_loss: 0.2893\n",
      "Epoch 18/50\n",
      "\u001b[1m147/147\u001b[0m \u001b[32m━━━━━━━━━━━━━━━━━━━━\u001b[0m\u001b[37m\u001b[0m \u001b[1m826s\u001b[0m 6s/step - acc: 0.8774 - loss: 0.2874 - val_acc: 0.8770 - val_loss: 0.2901\n",
      "Epoch 19/50\n",
      "\u001b[1m147/147\u001b[0m \u001b[32m━━━━━━━━━━━━━━━━━━━━\u001b[0m\u001b[37m\u001b[0m \u001b[1m826s\u001b[0m 6s/step - acc: 0.8762 - loss: 0.2844 - val_acc: 0.7921 - val_loss: 0.5315\n",
      "Epoch 20/50\n",
      "\u001b[1m147/147\u001b[0m \u001b[32m━━━━━━━━━━━━━━━━━━━━\u001b[0m\u001b[37m\u001b[0m \u001b[1m826s\u001b[0m 6s/step - acc: 0.8900 - loss: 0.2629 - val_acc: 0.8518 - val_loss: 0.3300\n",
      "Epoch 21/50\n",
      "\u001b[1m147/147\u001b[0m \u001b[32m━━━━━━━━━━━━━━━━━━━━\u001b[0m\u001b[37m\u001b[0m \u001b[1m826s\u001b[0m 6s/step - acc: 0.8898 - loss: 0.2625 - val_acc: 0.8950 - val_loss: 0.2591\n",
      "Epoch 22/50\n",
      "\u001b[1m147/147\u001b[0m \u001b[32m━━━━━━━━━━━━━━━━━━━━\u001b[0m\u001b[37m\u001b[0m \u001b[1m826s\u001b[0m 6s/step - acc: 0.8929 - loss: 0.2521 - val_acc: 0.8984 - val_loss: 0.2498\n",
      "Epoch 23/50\n",
      "\u001b[1m147/147\u001b[0m \u001b[32m━━━━━━━━━━━━━━━━━━━━\u001b[0m\u001b[37m\u001b[0m \u001b[1m826s\u001b[0m 6s/step - acc: 0.8901 - loss: 0.2541 - val_acc: 0.8471 - val_loss: 0.3432\n",
      "Epoch 24/50\n",
      "\u001b[1m147/147\u001b[0m \u001b[32m━━━━━━━━━━━━━━━━━━━━\u001b[0m\u001b[37m\u001b[0m \u001b[1m826s\u001b[0m 6s/step - acc: 0.9048 - loss: 0.2329 - val_acc: 0.8591 - val_loss: 0.3154\n",
      "Epoch 25/50\n",
      "\u001b[1m147/147\u001b[0m \u001b[32m━━━━━━━━━━━━━━━━━━━━\u001b[0m\u001b[37m\u001b[0m \u001b[1m827s\u001b[0m 6s/step - acc: 0.9087 - loss: 0.2281 - val_acc: 0.8781 - val_loss: 0.2871\n",
      "Epoch 26/50\n",
      "\u001b[1m147/147\u001b[0m \u001b[32m━━━━━━━━━━━━━━━━━━━━\u001b[0m\u001b[37m\u001b[0m \u001b[1m826s\u001b[0m 6s/step - acc: 0.9075 - loss: 0.2162 - val_acc: 0.8661 - val_loss: 0.3042\n",
      "Epoch 27/50\n",
      "\u001b[1m147/147\u001b[0m \u001b[32m━━━━━━━━━━━━━━━━━━━━\u001b[0m\u001b[37m\u001b[0m \u001b[1m863s\u001b[0m 6s/step - acc: 0.9132 - loss: 0.2116 - val_acc: 0.9012 - val_loss: 0.2432\n",
      "Epoch 28/50\n",
      "\u001b[1m147/147\u001b[0m \u001b[32m━━━━━━━━━━━━━━━━━━━━\u001b[0m\u001b[37m\u001b[0m \u001b[1m858s\u001b[0m 6s/step - acc: 0.9154 - loss: 0.2040 - val_acc: 0.9144 - val_loss: 0.2123\n",
      "Epoch 29/50\n",
      "\u001b[1m147/147\u001b[0m \u001b[32m━━━━━━━━━━━━━━━━━━━━\u001b[0m\u001b[37m\u001b[0m \u001b[1m857s\u001b[0m 6s/step - acc: 0.9155 - loss: 0.2033 - val_acc: 0.8234 - val_loss: 0.4118\n",
      "Epoch 30/50\n",
      "\u001b[1m147/147\u001b[0m \u001b[32m━━━━━━━━━━━━━━━━━━━━\u001b[0m\u001b[37m\u001b[0m \u001b[1m857s\u001b[0m 6s/step - acc: 0.9170 - loss: 0.2023 - val_acc: 0.9110 - val_loss: 0.2223\n",
      "Epoch 31/50\n",
      "\u001b[1m 68/147\u001b[0m \u001b[32m━━━━━━━━━\u001b[0m\u001b[37m━━━━━━━━━━━\u001b[0m \u001b[1m7:17\u001b[0m 6s/step - acc: 0.9221 - loss: 0.1895"
     ]
    }
   ],
   "source": [
    "epochs = 50\n",
    "callbacks = [\n",
    "    keras.callbacks.ModelCheckpoint(filepath=\"models/experiment3_epoch_{epoch}.keras\")\n",
    "]\n",
    "\n",
    "\n",
    "new_model.fit(\n",
    "    train_ds,\n",
    "    epochs=epochs,\n",
    "    validation_data=val_ds,\n",
    "    callbacks=callbacks\n",
    ")\n",
    "\n",
    "new_model.save(\"models/experiment3_model.keras\")\n"
   ]
  }
 ],
 "metadata": {
  "kernelspec": {
   "display_name": ".venv",
   "language": "python",
   "name": "python3"
  },
  "language_info": {
   "codemirror_mode": {
    "name": "ipython",
    "version": 3
   },
   "file_extension": ".py",
   "mimetype": "text/x-python",
   "name": "python",
   "nbconvert_exporter": "python",
   "pygments_lexer": "ipython3",
   "version": "3.12.9"
  }
 },
 "nbformat": 4,
 "nbformat_minor": 2
}
